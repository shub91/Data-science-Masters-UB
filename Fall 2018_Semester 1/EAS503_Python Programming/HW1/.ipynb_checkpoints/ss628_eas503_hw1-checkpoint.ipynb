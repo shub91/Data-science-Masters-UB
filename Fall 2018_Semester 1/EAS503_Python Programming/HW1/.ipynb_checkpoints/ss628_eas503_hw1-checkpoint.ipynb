{
 "cells": [
  {
   "cell_type": "markdown",
   "metadata": {},
   "source": [
    "## EAS 503 Homework 1 Submission\n",
    "Name - Shubham Sharma\n",
    "\n",
    "**Make sure that you rename the notebook file to *replacewithubitname*_eas503_hw1.ipynb**\n",
    "\n",
    "\n",
    "### Submission Details\n",
    "* **Due Date** - September 25, 2018 by 11:59 PM EST. All assignments have to be submitted using UBLearns.\n",
    "* **Number of Problems** - 4\n",
    "* **Maximum points** - 50\n",
    "* **Collaboration policy**\n",
    " - Every student has to submit individual homeworks\n",
    " - Any collaboration, in the form of discussion, with other members of the class is permitted, as long as the names of the collaborating members are explicitly stated on top of the submitted homework.\n",
    " - Any overlap with another submission or material from Internet will be awarded an F.\n",
    "* **Late submission policy** - _No late submissions allowed_\n",
    "* **Submission Format** - Enter code for each problem in the appropriate cell below. You may use multiple cells for a single problem to improve readability.\n",
    "* **Testing Protocol** - To grade, we will simply execute your notebook from command line using the following command:\n",
    "```shell\n",
    "jupyter nbconvert --execute <notebook>\n",
    "```\n",
    "Please make sure that your notebook produces the desired output with the above command, before submitting."
   ]
  },
  {
   "cell_type": "code",
   "execution_count": null,
   "metadata": {},
   "outputs": [],
   "source": [
    "## Please note the notebook gives an error using the command jupyter nbconvert --execute <notebook> in the \n",
    "## command line. This is because each cell has an execution time limited to 30 seconds. We can use the following\n",
    "## command to execute the notebook and create the html file.\n",
    "## jupyter nbconvert --ExecutePreprocessor.timeout=-1 ss628_eas503_hw1.ipynb"
   ]
  },
  {
   "cell_type": "markdown",
   "metadata": {},
   "source": [
    "### Problem 1 - Testing for  Fibonacci Number (10 Points)\n",
    "Develop functions to handle [Fibonacci numbers](http://mathworld.wolfram.com/FibonacciNumber.html). Try to design the quickest possible algorithm and record the time taken for the code to run.\n",
    "\n",
    "Test if a number belongs to the Fibonacci series, using `if-else` conditions. The logic of testing if a number, $n$, belongs to the Fibonacci series is: if one or both of $(5*n^2 + 4)$ or $(5*n^2 – 4)$ is a perfect square.\n",
    "\n",
    "Here is what you need to do:\n",
    "1. You will need to implement the function `fibonacciGenerator`, which takes no inputs. The function should return a Python `list` of length 25, with first 25 Fibonacci numbers.\n",
    "2. You will need to define a function `fibonacciTester`, which takes a single number as input, and returns `true` if the number belongs to the Fibonacci series, and `false` otherwise. "
   ]
  },
  {
   "cell_type": "code",
   "execution_count": 1,
   "metadata": {},
   "outputs": [
    {
     "name": "stdout",
     "output_type": "stream",
     "text": [
      "[0, 1, 1, 2, 3, 5, 8, 13, 21, 34, 55, 89, 144, 233, 377, 610, 987, 1597, 2584, 4181, 6765, 10946, 17711, 28657, 46368]\n",
      "The code took 47 microseconds.\n"
     ]
    }
   ],
   "source": [
    "def fibonacciGenerator():\n",
    "    l = [0, 1]\n",
    "    for m in range(23):\n",
    "        l.extend([l[m]+l[m+1]])  ## Creating list of fibonacci nos\n",
    "    return l\n",
    "    \n",
    "from datetime import datetime\n",
    "st = datetime.now()\n",
    "l = fibonacciGenerator()\n",
    "en = datetime.now()\n",
    "print(l)\n",
    "print(\"The code took %d microseconds.\"%(en-st).microseconds)"
   ]
  },
  {
   "cell_type": "code",
   "execution_count": 2,
   "metadata": {},
   "outputs": [
    {
     "name": "stdout",
     "output_type": "stream",
     "text": [
      "1 True\n",
      "2 True\n",
      "3 True\n",
      "4 False\n",
      "5 True\n",
      "6 False\n",
      "7 False\n",
      "8 True\n",
      "9 False\n",
      "10 False\n",
      "11 False\n",
      "12 False\n",
      "13 True\n",
      "14 False\n",
      "15 False\n",
      "16 False\n",
      "17 False\n",
      "18 False\n",
      "19 False\n",
      "20 False\n",
      "The code took 1797 moicroseconds.\n"
     ]
    }
   ],
   "source": [
    "def fibonacciTester(n):\n",
    "    import math\n",
    "    if ((n>=0 and n-int(n)) == 0):\n",
    "        if (((math.sqrt((5*n**2)+4)-int(math.sqrt((5*n**2)+4))) == 0) or ((math.sqrt((5*n**2)-4)-int(math.sqrt((5*n**2)-4))) == 0)):\n",
    "            return True\n",
    "    return False\n",
    "    \n",
    "\n",
    "from datetime import datetime\n",
    "st = datetime.now()\n",
    "for i in range(1,21):\n",
    "    v = fibonacciTester(i)\n",
    "    print(i, v)\n",
    "en = datetime.now()\n",
    "print(\"The code took %d moicroseconds.\"%(en - st).microseconds)"
   ]
  },
  {
   "cell_type": "markdown",
   "metadata": {},
   "source": [
    "### Problem 2 - Handling Exceptions (10 Points)\n",
    "In this problem you will read from a text file (**data_p2.txt**) included in the assignment. Please download it and store it in the same directory as this notebook. The code for reading data from the file is given below. You need to store the data and perform a simple mathematical operation on each data point. Each line is _supposed_ to contain a floating point number. But what you will observe is that some lines might have erroneous entries. You need to ignore those lines (Hint: Use `Exception` handling). \n",
    "\n",
    "The idea is to implement a function, `computeMedian()`, which reads in a file and computes the median of the numbers and returns the output. You may use the inbuilt function `sort` when computing the median.\n",
    "\n",
    "_DO NOT USE ANY INBUILT OR OTHER FUNCTION TO DIRECTLY COMPUTE MEDIAN_"
   ]
  },
  {
   "cell_type": "code",
   "execution_count": 62,
   "metadata": {},
   "outputs": [],
   "source": [
    "# Reading from a file. The following code just reads in every line in a text file without doing anything with it.\n",
    "# You can use the code in your solution. Do not call this function in your implementation.\n",
    "def dummyFileReader():\n",
    "    with open('data_p2.txt','r') as f: #we open the file in 'read' mode. The 'with' clause is similar to 'finally' clause\n",
    "        for line in f: #iterate over the file line by line\n",
    "            s = line.strip() #strip() removes the endline character at the end of the line. Line is of type 'str'"
   ]
  },
  {
   "cell_type": "code",
   "execution_count": 3,
   "metadata": {},
   "outputs": [
    {
     "name": "stdout",
     "output_type": "stream",
     "text": [
      "0.499675\n"
     ]
    }
   ],
   "source": [
    "def computeMedian():\n",
    "    with open('data_p2.txt','r') as f: \n",
    "        l1=[]\n",
    "        for line in f: \n",
    "            try:\n",
    "                s = line.strip()\n",
    "                l1.extend([float(s)]) ##Creating list of valid floating point nos in the file\n",
    "            except: \n",
    "                pass\n",
    "        l1.sort()\n",
    "        if(len(l1)==0):\n",
    "            return \"The file does not have any valid number to compute the median\"\n",
    "        elif(((len(l1)%2))==0):  ## for even number of values\n",
    "            return l1[(len(l1)//2)]+l1[((len(l1)//2)-1)]/2\n",
    "        else:  ## for odd number of values\n",
    "            return l1[len(l1)//2]\n",
    "print(computeMedian())"
   ]
  },
  {
   "cell_type": "markdown",
   "metadata": {},
   "source": [
    "### Problem 3 - Benchmarking Dictionary Performance (10 Points)\n",
    "We want to check the peformance of the Python inbuilt `del` routine for dropping elements from a dictionary. The question that we want answer for is: \n",
    "_Does the time required to delete an element from a Python dictionary depend on the size of the dictionary and on the location of the target element?_\n",
    "\n",
    "In each step of the experiment do the following: \n",
    "- Create a dictionary of integers from 1 to N, with your own desired keys. \n",
    "- Within a loop, delete the $i^{th}$ element. Measure the time taken to delete the element (Hint: use the `time` package in Python).\n",
    "\n",
    "Conduct the above experiment for $N = 1,000,000$ and $i$ ranging from $1$ to $1,000,000$ in steps of $10,000$. Make sure that you are recreating the Python dictionary every time. Save the times in a list (let us name it `timeMillion`).\n",
    "\n",
    "Repeat the above experiment, but set $N = 10,000,000$. This time, vary $i$ from $1$ to $10,000,000$ in steps of $100,000$. Save the times for this experiment in another list, say, `time10Million`.\n",
    "\n",
    "Plot the two lists using the `matplotlib.pyplot` package. See below for a sample code. You can plot both lists in the same chart to compare.\n",
    "\n",
    "Using the plots, answer the following (create a markup cell after your code cell(s) and enter your responses):\n",
    "1. Does the cost of deleting an element depend on the dictionary size?\n",
    "2. Does the cost of deleting an element depend on the location of the deleted element?\n",
    "\n"
   ]
  },
  {
   "cell_type": "code",
   "execution_count": 8,
   "metadata": {},
   "outputs": [
    {
     "data": {
      "text/plain": [
       "[<matplotlib.lines.Line2D at 0x1104063c8>]"
      ]
     },
     "execution_count": 8,
     "metadata": {},
     "output_type": "execute_result"
    },
    {
     "data": {
      "image/png": "[encoded data removed]",
      "text/plain": [
       "<Figure size 432x288 with 1 Axes>"
      ]
     },
     "metadata": {},
     "output_type": "display_data"
    }
   ],
   "source": [
    "# This cell is only for demonstration purposes, you can reuse parts of this code to create your own plots\n",
    "# Using matplotlib for plotting\n",
    "import matplotlib.pyplot as plt\n",
    "%matplotlib inline \n",
    "# above line is needed to make sure that the plots are displayed in the notebook.\n",
    "\n",
    "#generate some dummy data\n",
    "x = list(range(0, 20)) # generate a list\n",
    "y = [x1**2+2*x1 for x1 in x] # create a new list using the original list. Note the Pythonic inline creation of lists.\n",
    "y1 = [x1**2.3 for x1 in x]\n",
    "plt.plot(x,y)\n",
    "plt.plot(x,y1)"
   ]
  },
  {
   "cell_type": "code",
   "execution_count": 68,
   "metadata": {},
   "outputs": [
    {
     "data": {
      "text/plain": [
       "[<matplotlib.lines.Line2D at 0x1103ff860>]"
      ]
     },
     "execution_count": 68,
     "metadata": {},
     "output_type": "execute_result"
    },
    {
     "data": {
      "image/png": "[encoded data removed]",
      "text/plain": [
       "<Figure size 432x288 with 1 Axes>"
      ]
     },
     "metadata": {},
     "output_type": "display_data"
    }
   ],
   "source": [
    "def diccreate(N): ## function to create dictionary with N integers\n",
    "    d={}\n",
    "    for i in range(1,N+1):\n",
    "        d[i]=i\n",
    "    return d\n",
    "\n",
    "def dicdel(N,t): ## function to delete elements from a dictionary of N elements in a gap of t\n",
    "    l2 =[]\n",
    "    for i in range(1, N+1,t):\n",
    "        d1 = diccreate(N)  \n",
    "        st = time.time()\n",
    "        del d1[i]\n",
    "        en = time.time()\n",
    "        l2.extend([(en-st)])\n",
    "    return l2 ## returns the list of time taken to delete elements from a dictionary in a gap of t\n",
    "\n",
    "import time\n",
    "timeMillion = dicdel(1000000, 10000)\n",
    "time10Million = dicdel(10000000, 100000)\n",
    " \n",
    "import matplotlib.pyplot as plt\n",
    "%matplotlib inline \n",
    "plt.plot(timeMillion, 'r') #red\n",
    "plt.plot(time10Million, 'b') #blue"
   ]
  },
  {
   "cell_type": "code",
   "execution_count": null,
   "metadata": {},
   "outputs": [],
   "source": [
    "# Answer 1\n",
    "# The cost of deleting an element does not depend on the dictionary size\n",
    "# as we can clearly see in the graph generated: the blue and the red lines \n",
    "# correspond to the time taken to delete elements from a dictionary of size\n",
    "# 10 Million and 1 Million respectively. Both the lines are very close to\n",
    "# each other in terms of the time value which is plotted on the y-axis and\n",
    "# the difference is not significant.\n",
    "\n",
    "# Answer 2\n",
    "# The cost of deleting an element does not depend on the location of the \n",
    "# deleted element in a dictionary as we can see in the graph as we move \n",
    "# right along the x-axis, the position increases from the start of the \n",
    "# dictionary in steps of 10000 for the red line and 100000 for the blue \n",
    "# line. There is no significant variation in times taken at different \n",
    "# locations for both the cases. Few spikes are introduced in the graph due\n",
    "# to other system processes running on the system and will vary from \n",
    "# system to system, which the time function takes into account."
   ]
  },
  {
   "cell_type": "markdown",
   "metadata": {},
   "source": [
    "## Problem 4 - The Two Envelopes Problem (20 Points)\n",
    "The Two Envelopes problem is an interesting decision theory problem.\n",
    "\n",
    "> Consider that you are given two indistinguishable envelopes, each containing money, one contains twice as much as the other. You may pick one envelope and keep the money it contains. Having chosen an envelope at will, but before inspecting it, you are given the chance to switch envelopes. Should you switch?\n",
    "\n",
    "> The game is this: _stick_ or _switch_; It seems obvious that there is no point in switching envelopes as the situation is symmetric. However, because you stand to gain twice as much money if you switch while risking only a loss of half of what you currently have, it is possible to argue that it is more beneficial to switch.The problem is to show what is wrong with this argument.\n",
    "\n",
    "**Two Envelopes problem**: Implement a function, called `simulateProblem()`, that does the game simulation for the two envelopes problem. Run the simulation 1000 times to figure out the empirical (observed) probability of gaining more money when switching and gaining more money when sticking to the original choice. Each simulation operates as follows:\n",
    "1. First, randomly pick an envelopes configuration out of the two possible configurations, $(A,2A)$ or $(2A,A)$. In the first configuration, the second envelope has twice the money and in the second configuration, the first envelope has twice the money.\n",
    "2. Next, randomly pick one of the two envelopes. \n",
    "3. Finally, randomly choose to either stick or switch. The program checks if you won (the envelope that picked has more money) or not (the envelope that picked has less money). In case of winning, record if the winning was because of _sticking_ or _switching_.\n",
    "\n",
    "You can perform the _random_ choice as follows, using the `np.random.randint()` method.\n",
    "```python\n",
    "import numpy as np\n",
    "print(np.random.randint(2))\n",
    "```\n",
    "The `simulateProblem()` function takes no arguments and returns two values, first is a boolean output which is `True` if you win and `False` if you lose. In case of a win, the second output is `True` if the win was due to _sticking_ and `False` if the win was due to _switching_.\n",
    "\n",
    "Once the method `simulateProblem()` that does the above steps and returns _sticking_,or _switching_, depending on the win/loss scenario, run the method 1000 times and count the number of times the win was due to _sticking_ to the pick in Step 2, and number of times the win was due to _switching_ the envelope."
   ]
  },
  {
   "cell_type": "code",
   "execution_count": 4,
   "metadata": {},
   "outputs": [
    {
     "name": "stdout",
     "output_type": "stream",
     "text": [
      "The number of times the win was due to sticking is  251\n",
      "The number of times the win was due to switching is  223\n",
      "The probability of winning in case of sticking is  0.251\n",
      "The probability of winning in case of switching is  0.223\n"
     ]
    }
   ],
   "source": [
    "import random\n",
    "def simulateProblem():\n",
    "    l3 = [('A','2A'),('2A','A')]\n",
    "    envcfg = random.choice(l3)   ## Choose a random envelope configuration\n",
    "    #print(envcfg)\n",
    "    inienv = random.choice(envcfg) ## Choose a randon envelope from the chosen configuration\n",
    "    #print(inienv)\n",
    "    choice = random.choice([\"stick\", \"switch\"])\n",
    "    #print(choice)\n",
    "    if(choice == \"stick\"):   ## sticking case\n",
    "        finenv = inienv\n",
    "    else:\n",
    "        if(envcfg.index(inienv) == 0): ## switching case\n",
    "            finenv = envcfg[1]\n",
    "        else:\n",
    "            finenv = envcfg[0]\n",
    "    #print(finenv)\n",
    "    if(finenv == '2A'):\n",
    "        win = True\n",
    "        if(choice == \"stick\"):\n",
    "            stick = True\n",
    "        else:\n",
    "            stick = False\n",
    "    else:\n",
    "        win = False\n",
    "        stick = False\n",
    "    #print(win)\n",
    "    return win, stick  ## returns true for win and true for stick and win\n",
    "                       ## returns false for lose and stick\n",
    "W, st = 0,0\n",
    "for i in range(1000):\n",
    "    wl,ss = simulateProblem()\n",
    "    if(wl): ## win case\n",
    "        W+=1\n",
    "        #print(W)\n",
    "        if(ss): ## stick case\n",
    "            st+=1\n",
    "            #print(st)\n",
    "\n",
    "print(\"The number of times the win was due to sticking is \", st)\n",
    "print(\"The number of times the win was due to switching is \", (W-st))\n",
    "print(\"The probability of winning in case of sticking is \", st/1000)\n",
    "print(\"The probability of winning in case of switching is \", (W-st)/1000)\n",
    "\n"
   ]
  },
  {
   "cell_type": "markdown",
   "metadata": {},
   "source": [
    "### Which is better - sticking or switching?\n",
    "Use the simulation results to figure out the right answer."
   ]
  },
  {
   "cell_type": "code",
   "execution_count": null,
   "metadata": {},
   "outputs": [],
   "source": [
    "## We observe on running the code a number of times: the number of times the win is due to switching and the number\n",
    "## of times the win is due to sticking does not give a specific pattern. One is greater than the other\n",
    "## in some cases and the vice versa is true for the other cases. Thus, we conclude that it cannot be said that either\n",
    "## one of sticking or switching is better than the other based on the given information. This seems true since\n",
    "## the given events are random and if we hold the given argument true i.e. switch seems to be beneficial\n",
    "## then in that case we can do the experiment infinite number of times and each time switching would be a better option\n",
    "## without getting an end to the experiment since each time it will be exactly the same fresh case."
   ]
  }
 ],
 "metadata": {
  "kernelspec": {
   "display_name": "Python 3",
   "language": "python",
   "name": "python3"
  },
  "language_info": {
   "codemirror_mode": {
    "name": "ipython",
    "version": 3
   },
   "file_extension": ".py",
   "mimetype": "text/x-python",
   "name": "python",
   "nbconvert_exporter": "python",
   "pygments_lexer": "ipython3",
   "version": "3.6.5"
  }
 },
 "nbformat": 4,
 "nbformat_minor": 2
}
